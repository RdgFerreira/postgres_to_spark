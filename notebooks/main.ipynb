{
 "cells": [
  {
   "cell_type": "code",
   "execution_count": 1,
   "id": "a7059ef1-dcd5-408f-ae67-20df2b959b28",
   "metadata": {
    "editable": true,
    "slideshow": {
     "slide_type": ""
    },
    "tags": []
   },
   "outputs": [],
   "source": [
    "import os\n",
    "from pyspark.sql import SparkSession\n",
    "import pyspark.sql.functions as F\n",
    "import pandas as pd"
   ]
  },
  {
   "cell_type": "code",
   "execution_count": 2,
   "id": "a962cda2-944c-411a-ac21-eab93bcb0c0c",
   "metadata": {},
   "outputs": [
    {
     "name": "stderr",
     "output_type": "stream",
     "text": [
      "WARNING: Using incubator modules: jdk.incubator.vector\n"
     ]
    },
    {
     "name": "stdout",
     "output_type": "stream",
     "text": [
      "2025-10-20T14:13:44.471317500Z main ERROR Reconfiguration failed: No configuration found for '76ed5528' at 'null' in 'null'\n",
      "2025-10-20T14:13:44.625053278Z main ERROR Reconfiguration failed: No configuration found for 'Default' at 'null' in 'null'\n"
     ]
    },
    {
     "name": "stderr",
     "output_type": "stream",
     "text": [
      ":: loading settings :: url = jar:file:/opt/spark/jars/ivy-2.5.3.jar!/org/apache/ivy/core/settings/ivysettings.xml\n",
      "Ivy Default Cache set to: /home/spark/.ivy2.5.2/cache\n",
      "The jars for the packages stored in: /home/spark/.ivy2.5.2/jars\n",
      "org.postgresql#postgresql added as a dependency\n",
      ":: resolving dependencies :: org.apache.spark#spark-submit-parent-7e84468e-c90b-434c-b6eb-16f24a30b9ab;1.0\n",
      "\tconfs: [default]\n",
      "\tfound org.postgresql#postgresql;42.6.0 in central\n",
      "\tfound org.checkerframework#checker-qual;3.31.0 in central\n",
      "downloading https://repo1.maven.org/maven2/org/postgresql/postgresql/42.6.0/postgresql-42.6.0.jar ...\n",
      "\t[SUCCESSFUL ] org.postgresql#postgresql;42.6.0!postgresql.jar (373ms)\n",
      "downloading https://repo1.maven.org/maven2/org/checkerframework/checker-qual/3.31.0/checker-qual-3.31.0.jar ...\n",
      "\t[SUCCESSFUL ] org.checkerframework#checker-qual;3.31.0!checker-qual.jar (137ms)\n",
      ":: resolution report :: resolve 4007ms :: artifacts dl 521ms\n",
      "\t:: modules in use:\n",
      "\torg.checkerframework#checker-qual;3.31.0 from central in [default]\n",
      "\torg.postgresql#postgresql;42.6.0 from central in [default]\n",
      "\t---------------------------------------------------------------------\n",
      "\t|                  |            modules            ||   artifacts   |\n",
      "\t|       conf       | number| search|dwnlded|evicted|| number|dwnlded|\n",
      "\t---------------------------------------------------------------------\n",
      "\t|      default     |   2   |   2   |   2   |   0   ||   2   |   2   |\n",
      "\t---------------------------------------------------------------------\n",
      ":: retrieving :: org.apache.spark#spark-submit-parent-7e84468e-c90b-434c-b6eb-16f24a30b9ab\n",
      "\tconfs: [default]\n",
      "\t2 artifacts copied, 0 already retrieved (1274kB/13ms)\n",
      "25/10/20 14:13:49 WARN NativeCodeLoader: Unable to load native-hadoop library for your platform... using builtin-java classes where applicable\n",
      "Using Spark's default log4j profile: org/apache/spark/log4j2-defaults.properties\n",
      "Setting default log level to \"WARN\".\n",
      "To adjust logging level use sc.setLogLevel(newLevel). For SparkR, use setLogLevel(newLevel).\n"
     ]
    },
    {
     "name": "stdout",
     "output_type": "stream",
     "text": [
      "Spark version: 4.0.0\n"
     ]
    }
   ],
   "source": [
    "# Initialize Spark Session with PostgreSQL JDBC driver\n",
    "spark = SparkSession.builder \\\n",
    "    .appName(\"PostgreSQL-Spark Connection\") \\\n",
    "    .master(\"spark://spark-master:7077\") \\\n",
    "    .config(\"spark.jars.packages\", \"org.postgresql:postgresql:42.6.0\") \\\n",
    "    .config(\"spark.executor.memory\", \"1g\") \\\n",
    "    .config(\"spark.driver.memory\", \"1g\") \\\n",
    "    .config(\"spark.executor.cores\", \"1\") \\\n",
    "    .config(\"spark.driver.extraJavaOptions\", \"-Dlog4j.configuration=file:///opt/spark/conf/log4j.properties\") \\\n",
    "    .config(\"spark.sql.execution.arrow.pyspark.enabled\", \"true\") \\\n",
    "    .getOrCreate()\n",
    "\n",
    "# Check Spark version\n",
    "print(f\"Spark version: {spark.version}\")"
   ]
  },
  {
   "cell_type": "code",
   "execution_count": 3,
   "id": "b2e49eb7-8f2b-4dbb-84ca-67faa362bb30",
   "metadata": {},
   "outputs": [
    {
     "name": "stdout",
     "output_type": "stream",
     "text": [
      "JDBC URL: jdbc:postgresql://db:5432/my_database\n",
      "Connection properties configured (password hidden)\n"
     ]
    }
   ],
   "source": [
    "# PostgreSQL connection parameters\n",
    "# In production, these should be retrieved from environment variables or a secure store\n",
    "pg_host = \"db\"  # Service name in docker-compose\n",
    "pg_port = \"5432\"\n",
    "pg_database = \"my_database\"  # From docker-compose.yml\n",
    "pg_user = \"admin\"  # Defined in db.env \n",
    "pg_password = \"example\"  # Should be retrieved from environment or secure store\n",
    "\n",
    "# JDBC URL\n",
    "jdbc_url = f\"jdbc:postgresql://{pg_host}:{pg_port}/{pg_database}\"\n",
    "\n",
    "# Connection properties\n",
    "connection_properties = {\n",
    "    \"user\": pg_user,\n",
    "    \"password\": pg_password,\n",
    "    \"driver\": \"org.postgresql.Driver\",\n",
    "    \"ssl\": \"false\"\n",
    "}\n",
    "\n",
    "print(f\"JDBC URL: {jdbc_url}\")\n",
    "print(\"Connection properties configured (password hidden)\")"
   ]
  },
  {
   "cell_type": "code",
   "execution_count": null,
   "id": "68169c62-573f-47cb-96f8-060bb7761484",
   "metadata": {},
   "outputs": [],
   "source": []
  }
 ],
 "metadata": {
  "kernelspec": {
   "display_name": "Python 3 (ipykernel)",
   "language": "python",
   "name": "python3"
  },
  "language_info": {
   "codemirror_mode": {
    "name": "ipython",
    "version": 3
   },
   "file_extension": ".py",
   "mimetype": "text/x-python",
   "name": "python",
   "nbconvert_exporter": "python",
   "pygments_lexer": "ipython3",
   "version": "3.10.12"
  }
 },
 "nbformat": 4,
 "nbformat_minor": 5
}
